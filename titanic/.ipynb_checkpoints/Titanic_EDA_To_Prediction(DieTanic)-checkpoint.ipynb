{
 "cells": [
  {
   "cell_type": "code",
   "execution_count": 1,
   "metadata": {},
   "outputs": [],
   "source": [
    "import numpy as np\n",
    "import pandas as pd\n",
    "import matplotlib.pyplot as plt\n",
    "import seaborn as sns\n",
    "plt.style.use('fivethirtyeight')\n",
    "import warnings\n",
    "warnings.filterwarnings('ignore')\n",
    "%matplotlib inline"
   ]
  },
  {
   "cell_type": "markdown",
   "metadata": {},
   "source": [
    "# 데이터 불러오기"
   ]
  },
  {
   "cell_type": "code",
   "execution_count": 2,
   "metadata": {},
   "outputs": [],
   "source": [
    "data = pd.read_csv('data/titanic/train.csv')"
   ]
  },
  {
   "cell_type": "code",
   "execution_count": 3,
   "metadata": {},
   "outputs": [
    {
     "data": {
      "text/html": [
       "<div>\n",
       "<style scoped>\n",
       "    .dataframe tbody tr th:only-of-type {\n",
       "        vertical-align: middle;\n",
       "    }\n",
       "\n",
       "    .dataframe tbody tr th {\n",
       "        vertical-align: top;\n",
       "    }\n",
       "\n",
       "    .dataframe thead th {\n",
       "        text-align: right;\n",
       "    }\n",
       "</style>\n",
       "<table border=\"1\" class=\"dataframe\">\n",
       "  <thead>\n",
       "    <tr style=\"text-align: right;\">\n",
       "      <th></th>\n",
       "      <th>PassengerId</th>\n",
       "      <th>Survived</th>\n",
       "      <th>Pclass</th>\n",
       "      <th>Name</th>\n",
       "      <th>Sex</th>\n",
       "      <th>Age</th>\n",
       "      <th>SibSp</th>\n",
       "      <th>Parch</th>\n",
       "      <th>Ticket</th>\n",
       "      <th>Fare</th>\n",
       "      <th>Cabin</th>\n",
       "      <th>Embarked</th>\n",
       "    </tr>\n",
       "  </thead>\n",
       "  <tbody>\n",
       "    <tr>\n",
       "      <td>0</td>\n",
       "      <td>1</td>\n",
       "      <td>0</td>\n",
       "      <td>3</td>\n",
       "      <td>Braund, Mr. Owen Harris</td>\n",
       "      <td>male</td>\n",
       "      <td>22.0</td>\n",
       "      <td>1</td>\n",
       "      <td>0</td>\n",
       "      <td>A/5 21171</td>\n",
       "      <td>7.2500</td>\n",
       "      <td>NaN</td>\n",
       "      <td>S</td>\n",
       "    </tr>\n",
       "    <tr>\n",
       "      <td>1</td>\n",
       "      <td>2</td>\n",
       "      <td>1</td>\n",
       "      <td>1</td>\n",
       "      <td>Cumings, Mrs. John Bradley (Florence Briggs Th...</td>\n",
       "      <td>female</td>\n",
       "      <td>38.0</td>\n",
       "      <td>1</td>\n",
       "      <td>0</td>\n",
       "      <td>PC 17599</td>\n",
       "      <td>71.2833</td>\n",
       "      <td>C85</td>\n",
       "      <td>C</td>\n",
       "    </tr>\n",
       "    <tr>\n",
       "      <td>2</td>\n",
       "      <td>3</td>\n",
       "      <td>1</td>\n",
       "      <td>3</td>\n",
       "      <td>Heikkinen, Miss. Laina</td>\n",
       "      <td>female</td>\n",
       "      <td>26.0</td>\n",
       "      <td>0</td>\n",
       "      <td>0</td>\n",
       "      <td>STON/O2. 3101282</td>\n",
       "      <td>7.9250</td>\n",
       "      <td>NaN</td>\n",
       "      <td>S</td>\n",
       "    </tr>\n",
       "    <tr>\n",
       "      <td>3</td>\n",
       "      <td>4</td>\n",
       "      <td>1</td>\n",
       "      <td>1</td>\n",
       "      <td>Futrelle, Mrs. Jacques Heath (Lily May Peel)</td>\n",
       "      <td>female</td>\n",
       "      <td>35.0</td>\n",
       "      <td>1</td>\n",
       "      <td>0</td>\n",
       "      <td>113803</td>\n",
       "      <td>53.1000</td>\n",
       "      <td>C123</td>\n",
       "      <td>S</td>\n",
       "    </tr>\n",
       "    <tr>\n",
       "      <td>4</td>\n",
       "      <td>5</td>\n",
       "      <td>0</td>\n",
       "      <td>3</td>\n",
       "      <td>Allen, Mr. William Henry</td>\n",
       "      <td>male</td>\n",
       "      <td>35.0</td>\n",
       "      <td>0</td>\n",
       "      <td>0</td>\n",
       "      <td>373450</td>\n",
       "      <td>8.0500</td>\n",
       "      <td>NaN</td>\n",
       "      <td>S</td>\n",
       "    </tr>\n",
       "  </tbody>\n",
       "</table>\n",
       "</div>"
      ],
      "text/plain": [
       "   PassengerId  Survived  Pclass  \\\n",
       "0            1         0       3   \n",
       "1            2         1       1   \n",
       "2            3         1       3   \n",
       "3            4         1       1   \n",
       "4            5         0       3   \n",
       "\n",
       "                                                Name     Sex   Age  SibSp  \\\n",
       "0                            Braund, Mr. Owen Harris    male  22.0      1   \n",
       "1  Cumings, Mrs. John Bradley (Florence Briggs Th...  female  38.0      1   \n",
       "2                             Heikkinen, Miss. Laina  female  26.0      0   \n",
       "3       Futrelle, Mrs. Jacques Heath (Lily May Peel)  female  35.0      1   \n",
       "4                           Allen, Mr. William Henry    male  35.0      0   \n",
       "\n",
       "   Parch            Ticket     Fare Cabin Embarked  \n",
       "0      0         A/5 21171   7.2500   NaN        S  \n",
       "1      0          PC 17599  71.2833   C85        C  \n",
       "2      0  STON/O2. 3101282   7.9250   NaN        S  \n",
       "3      0            113803  53.1000  C123        S  \n",
       "4      0            373450   8.0500   NaN        S  "
      ]
     },
     "execution_count": 3,
     "metadata": {},
     "output_type": "execute_result"
    }
   ],
   "source": [
    "data.head()\n",
    "# survived 0:daed, 1:survive"
   ]
  },
  {
   "cell_type": "code",
   "execution_count": null,
   "metadata": {},
   "outputs": [],
   "source": [
    "data.isnull()\n",
    "# True == 'null' 을 의미"
   ]
  },
  {
   "cell_type": "code",
   "execution_count": 4,
   "metadata": {},
   "outputs": [
    {
     "data": {
      "text/plain": [
       "PassengerId      0\n",
       "Survived         0\n",
       "Pclass           0\n",
       "Name             0\n",
       "Sex              0\n",
       "Age            177\n",
       "SibSp            0\n",
       "Parch            0\n",
       "Ticket           0\n",
       "Fare             0\n",
       "Cabin          687\n",
       "Embarked         2\n",
       "dtype: int64"
      ]
     },
     "execution_count": 4,
     "metadata": {},
     "output_type": "execute_result"
    }
   ],
   "source": [
    "data.isnull().sum()\n",
    "# null값이 얼마나 있는지를 확인해보는 것, 각 열의 True값인 1을 다 더한 것이다.\n",
    "# data.isnull().sum(0) 혹은 sum(1) 은\n",
    "# data.isnull().sum(axis=0,1)과 같은데 0은 디폴트값이고 열마다 True를 더한 것, 1은 행마다 더한 것."
   ]
  },
  {
   "cell_type": "markdown",
   "metadata": {},
   "source": [
    "The, Age Cabin and embarked have null values. I will try to fix them\n",
    "\n",
    "How many survived"
   ]
  },
  {
   "cell_type": "code",
   "execution_count": null,
   "metadata": {},
   "outputs": [],
   "source": [
    "data['Survived'].value_counts()\n",
    "# 생존자, 사망자 숫자"
   ]
  },
  {
   "cell_type": "code",
   "execution_count": 7,
   "metadata": {},
   "outputs": [
    {
     "data": {
      "image/png": "[encoded data removed]",
      "text/plain": [
       "<Figure size 1296x576 with 2 Axes>"
      ]
     },
     "metadata": {
      "needs_background": "light"
     },
     "output_type": "display_data"
    }
   ],
   "source": [
    "f,ax = plt.subplots(1, 2, figsize=(18,8))\n",
    "data['Survived'].value_counts().plot.pie(explode=[0, 0.1], autopct='%1.1f%%', ax=ax[0], shadow=True)\n",
    "# count한 것들을 파이그래프로 만들기\n",
    "# explode는 파이 간격의 떨어짐\n",
    "# autopct는 퍼센트 몇자리까지?\n",
    "# ax는 0과 1을 갖는다.\n",
    "# shadow는 그림자효과\n",
    "\n",
    "ax[0].set_title('Survived')\n",
    "ax[0].set_ylabel('')\n",
    "sns.countplot('Survived', data=data, ax=ax[1])\n",
    "ax[1].set_title('Survived')\n",
    "plt.show()"
   ]
  },
  {
   "cell_type": "markdown",
   "metadata": {},
   "source": [
    "# EDA"
   ]
  },
  {
   "cell_type": "code",
   "execution_count": 14,
   "metadata": {},
   "outputs": [
    {
     "data": {
      "text/plain": [
       "Sex     Survived\n",
       "female  0            81\n",
       "        1           233\n",
       "male    0           468\n",
       "        1           109\n",
       "Name: Survived, dtype: int64"
      ]
     },
     "execution_count": 14,
     "metadata": {},
     "output_type": "execute_result"
    }
   ],
   "source": [
    "data.groupby(['Sex','Survived'])['Survived'].count()\n",
    "# 이 그룹핑에서 sum이나 mena은 의미 없다. 0+0+0 이거나, 0을 평균내거나 하는 값이 나오기 때문"
   ]
  },
  {
   "cell_type": "code",
   "execution_count": 16,
   "metadata": {},
   "outputs": [
    {
     "data": {
      "text/plain": [
       "<matplotlib.axes._subplots.AxesSubplot at 0x1e70388c7c8>"
      ]
     },
     "execution_count": 16,
     "metadata": {},
     "output_type": "execute_result"
    },
    {
     "data": {
      "image/png": "[encoded data removed]",
      "text/plain": [
       "<Figure size 432x288 with 1 Axes>"
      ]
     },
     "metadata": {
      "needs_background": "light"
     },
     "output_type": "display_data"
    }
   ],
   "source": [
    "data.groupby(['Sex','Survived'])['Survived'].count().plot(kind='bar')"
   ]
  },
  {
   "cell_type": "code",
   "execution_count": 20,
   "metadata": {},
   "outputs": [
    {
     "data": {
      "image/png": "[encoded data removed]",
      "text/plain": [
       "<Figure size 1296x576 with 2 Axes>"
      ]
     },
     "metadata": {
      "needs_background": "light"
     },
     "output_type": "display_data"
    }
   ],
   "source": [
    "f, ax = plt.subplots(1,2,figsize=(18,8))\n",
    "data[['Sex','Survived']].groupby(['Sex']).mean().plot.bar(ax=ax[0]) \n",
    "# 남자가 살 확률 0.18 여자가 살 확률 0.74\n",
    "ax[0].set_title('Survived vs Sex')\n",
    "sns.countplot('Sex', hue='Survived', data=data, ax=ax[1])\n",
    "ax[1].set_title('Sex;Survived vs Dead')\n",
    "plt.show()"
   ]
  },
  {
   "cell_type": "markdown",
   "metadata": {},
   "source": [
    "해석: 승선한 사람은 남자가 훨씬 많은데, 남자가 많이 사망했다.\n",
    "\n",
    "여자는 약 75%가 생존한 반면 남자는 18%가 생존."
   ]
  },
  {
   "cell_type": "markdown",
   "metadata": {},
   "source": [
    "# Pclass → Ordinal Feature"
   ]
  },
  {
   "cell_type": "code",
   "execution_count": 23,
   "metadata": {},
   "outputs": [
    {
     "data": {
      "text/html": [
       "<style  type=\"text/css\" >\n",
       "    #T_1d6a7e10_468e_11ea_a650_9829a63d2884row0_col0 {\n",
       "            background-color:  #ffff66;\n",
       "            color:  #000000;\n",
       "        }    #T_1d6a7e10_468e_11ea_a650_9829a63d2884row0_col1 {\n",
       "            background-color:  #cee666;\n",
       "            color:  #000000;\n",
       "        }    #T_1d6a7e10_468e_11ea_a650_9829a63d2884row0_col2 {\n",
       "            background-color:  #f4fa66;\n",
       "            color:  #000000;\n",
       "        }    #T_1d6a7e10_468e_11ea_a650_9829a63d2884row1_col0 {\n",
       "            background-color:  #f6fa66;\n",
       "            color:  #000000;\n",
       "        }    #T_1d6a7e10_468e_11ea_a650_9829a63d2884row1_col1 {\n",
       "            background-color:  #ffff66;\n",
       "            color:  #000000;\n",
       "        }    #T_1d6a7e10_468e_11ea_a650_9829a63d2884row1_col2 {\n",
       "            background-color:  #ffff66;\n",
       "            color:  #000000;\n",
       "        }    #T_1d6a7e10_468e_11ea_a650_9829a63d2884row2_col0 {\n",
       "            background-color:  #60b066;\n",
       "            color:  #000000;\n",
       "        }    #T_1d6a7e10_468e_11ea_a650_9829a63d2884row2_col1 {\n",
       "            background-color:  #dfef66;\n",
       "            color:  #000000;\n",
       "        }    #T_1d6a7e10_468e_11ea_a650_9829a63d2884row2_col2 {\n",
       "            background-color:  #90c866;\n",
       "            color:  #000000;\n",
       "        }    #T_1d6a7e10_468e_11ea_a650_9829a63d2884row3_col0 {\n",
       "            background-color:  #008066;\n",
       "            color:  #f1f1f1;\n",
       "        }    #T_1d6a7e10_468e_11ea_a650_9829a63d2884row3_col1 {\n",
       "            background-color:  #008066;\n",
       "            color:  #f1f1f1;\n",
       "        }    #T_1d6a7e10_468e_11ea_a650_9829a63d2884row3_col2 {\n",
       "            background-color:  #008066;\n",
       "            color:  #f1f1f1;\n",
       "        }</style><table id=\"T_1d6a7e10_468e_11ea_a650_9829a63d2884\" ><thead>    <tr>        <th class=\"index_name level0\" >Survived</th>        <th class=\"col_heading level0 col0\" >0</th>        <th class=\"col_heading level0 col1\" >1</th>        <th class=\"col_heading level0 col2\" >All</th>    </tr>    <tr>        <th class=\"index_name level0\" >Pclass</th>        <th class=\"blank\" ></th>        <th class=\"blank\" ></th>        <th class=\"blank\" ></th>    </tr></thead><tbody>\n",
       "                <tr>\n",
       "                        <th id=\"T_1d6a7e10_468e_11ea_a650_9829a63d2884level0_row0\" class=\"row_heading level0 row0\" >1</th>\n",
       "                        <td id=\"T_1d6a7e10_468e_11ea_a650_9829a63d2884row0_col0\" class=\"data row0 col0\" >80</td>\n",
       "                        <td id=\"T_1d6a7e10_468e_11ea_a650_9829a63d2884row0_col1\" class=\"data row0 col1\" >136</td>\n",
       "                        <td id=\"T_1d6a7e10_468e_11ea_a650_9829a63d2884row0_col2\" class=\"data row0 col2\" >216</td>\n",
       "            </tr>\n",
       "            <tr>\n",
       "                        <th id=\"T_1d6a7e10_468e_11ea_a650_9829a63d2884level0_row1\" class=\"row_heading level0 row1\" >2</th>\n",
       "                        <td id=\"T_1d6a7e10_468e_11ea_a650_9829a63d2884row1_col0\" class=\"data row1 col0\" >97</td>\n",
       "                        <td id=\"T_1d6a7e10_468e_11ea_a650_9829a63d2884row1_col1\" class=\"data row1 col1\" >87</td>\n",
       "                        <td id=\"T_1d6a7e10_468e_11ea_a650_9829a63d2884row1_col2\" class=\"data row1 col2\" >184</td>\n",
       "            </tr>\n",
       "            <tr>\n",
       "                        <th id=\"T_1d6a7e10_468e_11ea_a650_9829a63d2884level0_row2\" class=\"row_heading level0 row2\" >3</th>\n",
       "                        <td id=\"T_1d6a7e10_468e_11ea_a650_9829a63d2884row2_col0\" class=\"data row2 col0\" >372</td>\n",
       "                        <td id=\"T_1d6a7e10_468e_11ea_a650_9829a63d2884row2_col1\" class=\"data row2 col1\" >119</td>\n",
       "                        <td id=\"T_1d6a7e10_468e_11ea_a650_9829a63d2884row2_col2\" class=\"data row2 col2\" >491</td>\n",
       "            </tr>\n",
       "            <tr>\n",
       "                        <th id=\"T_1d6a7e10_468e_11ea_a650_9829a63d2884level0_row3\" class=\"row_heading level0 row3\" >All</th>\n",
       "                        <td id=\"T_1d6a7e10_468e_11ea_a650_9829a63d2884row3_col0\" class=\"data row3 col0\" >549</td>\n",
       "                        <td id=\"T_1d6a7e10_468e_11ea_a650_9829a63d2884row3_col1\" class=\"data row3 col1\" >342</td>\n",
       "                        <td id=\"T_1d6a7e10_468e_11ea_a650_9829a63d2884row3_col2\" class=\"data row3 col2\" >891</td>\n",
       "            </tr>\n",
       "    </tbody></table>"
      ],
      "text/plain": [
       "<pandas.io.formats.style.Styler at 0x1e7035bc348>"
      ]
     },
     "execution_count": 23,
     "metadata": {},
     "output_type": "execute_result"
    }
   ],
   "source": [
    "pd.crosstab(data.Pclass, data.Survived, margins=True).style.background_gradient(cmap='summer_r')\n",
    "# margin은 All을 의미한다.\n",
    "# cmap은 spring, fall, winter 느낌으로 색 테마 바꾸기"
   ]
  },
  {
   "cell_type": "code",
   "execution_count": 25,
   "metadata": {},
   "outputs": [
    {
     "data": {
      "image/png": "[encoded data removed]",
      "text/plain": [
       "<Figure size 1296x576 with 2 Axes>"
      ]
     },
     "metadata": {
      "needs_background": "light"
     },
     "output_type": "display_data"
    }
   ],
   "source": [
    "f,ax=plt.subplots(1,2,figsize=(18,8))\n",
    "data['Pclass'].value_counts().plot.bar(color=['#CD7F32','#FFDF00','#D3D3D3'],ax=ax[0])\n",
    "# 검색: RGB color code\n",
    "ax[0].set_title('Number Of Passengers By Pclass')\n",
    "ax[0].set_ylabel('Count')\n",
    "sns.countplot('Pclass',hue='Survived',data=data,ax=ax[1])\n",
    "ax[1].set_title('Pclass:Survived vs Dead')\n",
    "plt.show()"
   ]
  },
  {
   "cell_type": "code",
   "execution_count": 26,
   "metadata": {},
   "outputs": [
    {
     "data": {
      "text/html": [
       "<style  type=\"text/css\" >\n",
       "    #T_ded06dca_468e_11ea_8eda_9829a63d2884row0_col0 {\n",
       "            background-color:  #ffff66;\n",
       "            color:  #000000;\n",
       "        }    #T_ded06dca_468e_11ea_8eda_9829a63d2884row0_col1 {\n",
       "            background-color:  #ffff66;\n",
       "            color:  #000000;\n",
       "        }    #T_ded06dca_468e_11ea_8eda_9829a63d2884row0_col2 {\n",
       "            background-color:  #f1f866;\n",
       "            color:  #000000;\n",
       "        }    #T_ded06dca_468e_11ea_8eda_9829a63d2884row0_col3 {\n",
       "            background-color:  #ffff66;\n",
       "            color:  #000000;\n",
       "        }    #T_ded06dca_468e_11ea_8eda_9829a63d2884row1_col0 {\n",
       "            background-color:  #96cb66;\n",
       "            color:  #000000;\n",
       "        }    #T_ded06dca_468e_11ea_8eda_9829a63d2884row1_col1 {\n",
       "            background-color:  #a3d166;\n",
       "            color:  #000000;\n",
       "        }    #T_ded06dca_468e_11ea_8eda_9829a63d2884row1_col2 {\n",
       "            background-color:  #f1f866;\n",
       "            color:  #000000;\n",
       "        }    #T_ded06dca_468e_11ea_8eda_9829a63d2884row1_col3 {\n",
       "            background-color:  #cfe766;\n",
       "            color:  #000000;\n",
       "        }    #T_ded06dca_468e_11ea_8eda_9829a63d2884row2_col0 {\n",
       "            background-color:  #a7d366;\n",
       "            color:  #000000;\n",
       "        }    #T_ded06dca_468e_11ea_8eda_9829a63d2884row2_col1 {\n",
       "            background-color:  #85c266;\n",
       "            color:  #000000;\n",
       "        }    #T_ded06dca_468e_11ea_8eda_9829a63d2884row2_col2 {\n",
       "            background-color:  #6eb666;\n",
       "            color:  #000000;\n",
       "        }    #T_ded06dca_468e_11ea_8eda_9829a63d2884row2_col3 {\n",
       "            background-color:  #85c266;\n",
       "            color:  #000000;\n",
       "        }    #T_ded06dca_468e_11ea_8eda_9829a63d2884row3_col0 {\n",
       "            background-color:  #cde666;\n",
       "            color:  #000000;\n",
       "        }    #T_ded06dca_468e_11ea_8eda_9829a63d2884row3_col1 {\n",
       "            background-color:  #f0f866;\n",
       "            color:  #000000;\n",
       "        }    #T_ded06dca_468e_11ea_8eda_9829a63d2884row3_col2 {\n",
       "            background-color:  #ffff66;\n",
       "            color:  #000000;\n",
       "        }    #T_ded06dca_468e_11ea_8eda_9829a63d2884row3_col3 {\n",
       "            background-color:  #f7fb66;\n",
       "            color:  #000000;\n",
       "        }    #T_ded06dca_468e_11ea_8eda_9829a63d2884row4_col0 {\n",
       "            background-color:  #008066;\n",
       "            color:  #f1f1f1;\n",
       "        }    #T_ded06dca_468e_11ea_8eda_9829a63d2884row4_col1 {\n",
       "            background-color:  #008066;\n",
       "            color:  #f1f1f1;\n",
       "        }    #T_ded06dca_468e_11ea_8eda_9829a63d2884row4_col2 {\n",
       "            background-color:  #008066;\n",
       "            color:  #f1f1f1;\n",
       "        }    #T_ded06dca_468e_11ea_8eda_9829a63d2884row4_col3 {\n",
       "            background-color:  #008066;\n",
       "            color:  #f1f1f1;\n",
       "        }</style><table id=\"T_ded06dca_468e_11ea_8eda_9829a63d2884\" ><thead>    <tr>        <th class=\"blank\" ></th>        <th class=\"index_name level0\" >Pclass</th>        <th class=\"col_heading level0 col0\" >1</th>        <th class=\"col_heading level0 col1\" >2</th>        <th class=\"col_heading level0 col2\" >3</th>        <th class=\"col_heading level0 col3\" >All</th>    </tr>    <tr>        <th class=\"index_name level0\" >Sex</th>        <th class=\"index_name level1\" >Survived</th>        <th class=\"blank\" ></th>        <th class=\"blank\" ></th>        <th class=\"blank\" ></th>        <th class=\"blank\" ></th>    </tr></thead><tbody>\n",
       "                <tr>\n",
       "                        <th id=\"T_ded06dca_468e_11ea_8eda_9829a63d2884level0_row0\" class=\"row_heading level0 row0\" rowspan=2>female</th>\n",
       "                        <th id=\"T_ded06dca_468e_11ea_8eda_9829a63d2884level1_row0\" class=\"row_heading level1 row0\" >0</th>\n",
       "                        <td id=\"T_ded06dca_468e_11ea_8eda_9829a63d2884row0_col0\" class=\"data row0 col0\" >3</td>\n",
       "                        <td id=\"T_ded06dca_468e_11ea_8eda_9829a63d2884row0_col1\" class=\"data row0 col1\" >6</td>\n",
       "                        <td id=\"T_ded06dca_468e_11ea_8eda_9829a63d2884row0_col2\" class=\"data row0 col2\" >72</td>\n",
       "                        <td id=\"T_ded06dca_468e_11ea_8eda_9829a63d2884row0_col3\" class=\"data row0 col3\" >81</td>\n",
       "            </tr>\n",
       "            <tr>\n",
       "                                <th id=\"T_ded06dca_468e_11ea_8eda_9829a63d2884level1_row1\" class=\"row_heading level1 row1\" >1</th>\n",
       "                        <td id=\"T_ded06dca_468e_11ea_8eda_9829a63d2884row1_col0\" class=\"data row1 col0\" >91</td>\n",
       "                        <td id=\"T_ded06dca_468e_11ea_8eda_9829a63d2884row1_col1\" class=\"data row1 col1\" >70</td>\n",
       "                        <td id=\"T_ded06dca_468e_11ea_8eda_9829a63d2884row1_col2\" class=\"data row1 col2\" >72</td>\n",
       "                        <td id=\"T_ded06dca_468e_11ea_8eda_9829a63d2884row1_col3\" class=\"data row1 col3\" >233</td>\n",
       "            </tr>\n",
       "            <tr>\n",
       "                        <th id=\"T_ded06dca_468e_11ea_8eda_9829a63d2884level0_row2\" class=\"row_heading level0 row2\" rowspan=2>male</th>\n",
       "                        <th id=\"T_ded06dca_468e_11ea_8eda_9829a63d2884level1_row2\" class=\"row_heading level1 row2\" >0</th>\n",
       "                        <td id=\"T_ded06dca_468e_11ea_8eda_9829a63d2884row2_col0\" class=\"data row2 col0\" >77</td>\n",
       "                        <td id=\"T_ded06dca_468e_11ea_8eda_9829a63d2884row2_col1\" class=\"data row2 col1\" >91</td>\n",
       "                        <td id=\"T_ded06dca_468e_11ea_8eda_9829a63d2884row2_col2\" class=\"data row2 col2\" >300</td>\n",
       "                        <td id=\"T_ded06dca_468e_11ea_8eda_9829a63d2884row2_col3\" class=\"data row2 col3\" >468</td>\n",
       "            </tr>\n",
       "            <tr>\n",
       "                                <th id=\"T_ded06dca_468e_11ea_8eda_9829a63d2884level1_row3\" class=\"row_heading level1 row3\" >1</th>\n",
       "                        <td id=\"T_ded06dca_468e_11ea_8eda_9829a63d2884row3_col0\" class=\"data row3 col0\" >45</td>\n",
       "                        <td id=\"T_ded06dca_468e_11ea_8eda_9829a63d2884row3_col1\" class=\"data row3 col1\" >17</td>\n",
       "                        <td id=\"T_ded06dca_468e_11ea_8eda_9829a63d2884row3_col2\" class=\"data row3 col2\" >47</td>\n",
       "                        <td id=\"T_ded06dca_468e_11ea_8eda_9829a63d2884row3_col3\" class=\"data row3 col3\" >109</td>\n",
       "            </tr>\n",
       "            <tr>\n",
       "                        <th id=\"T_ded06dca_468e_11ea_8eda_9829a63d2884level0_row4\" class=\"row_heading level0 row4\" >All</th>\n",
       "                        <th id=\"T_ded06dca_468e_11ea_8eda_9829a63d2884level1_row4\" class=\"row_heading level1 row4\" ></th>\n",
       "                        <td id=\"T_ded06dca_468e_11ea_8eda_9829a63d2884row4_col0\" class=\"data row4 col0\" >216</td>\n",
       "                        <td id=\"T_ded06dca_468e_11ea_8eda_9829a63d2884row4_col1\" class=\"data row4 col1\" >184</td>\n",
       "                        <td id=\"T_ded06dca_468e_11ea_8eda_9829a63d2884row4_col2\" class=\"data row4 col2\" >491</td>\n",
       "                        <td id=\"T_ded06dca_468e_11ea_8eda_9829a63d2884row4_col3\" class=\"data row4 col3\" >891</td>\n",
       "            </tr>\n",
       "    </tbody></table>"
      ],
      "text/plain": [
       "<pandas.io.formats.style.Styler at 0x1e703271408>"
      ]
     },
     "execution_count": 26,
     "metadata": {},
     "output_type": "execute_result"
    }
   ],
   "source": [
    "pd.crosstab([data.Sex, data.Survived],data.Pclass,margins=True).style.background_gradient(cmap='summer_r')"
   ]
  },
  {
   "cell_type": "markdown",
   "metadata": {},
   "source": [
    "Pclass가 높을수록 생존이 높다는 것을 볼 수 있다."
   ]
  },
  {
   "cell_type": "code",
   "execution_count": 27,
   "metadata": {
    "scrolled": true
   },
   "outputs": [
    {
     "data": {
      "image/png": "[encoded data removed]",
      "text/plain": [
       "<Figure size 430.5x360 with 1 Axes>"
      ]
     },
     "metadata": {
      "needs_background": "light"
     },
     "output_type": "display_data"
    }
   ],
   "source": [
    "sns.factorplot('Pclass','Survived',hue='Sex',data=data)\n",
    "plt.show()"
   ]
  },
  {
   "cell_type": "markdown",
   "metadata": {},
   "source": [
    "여성이 생존률이 높고, Class별로 생존이 높다. Class가 상위일수록(잘살수록?) 생존률이 높다."
   ]
  },
  {
   "cell_type": "markdown",
   "metadata": {},
   "source": [
    "Ticket이름이 같은 경우는 같이 탄 사람이 많기 때문에, 요금이 높게 나온다. 전체 가족수의 평균을 구해서..?\n",
    "Ticket이름 같은 경우는 같이 탄 사람이 많다? 그래서 요금이 많다?\n",
    "\n",
    "아버지를 어떻게 찾을 수 있을까?\n",
    "\n",
    "나이와 상관관계가 높은 변수 추출.\n",
    "k-means처럼 그룹 평균값으로 채우기?(조정해서 만들면 된다)\n",
    "\n",
    "1부 나이 변수를 채우는 방법 - 실제로 채워보기\n",
    "\n",
    "2부 필사하고 다른 좋은 타이타닉 코드 학습 및 설명(여기서 나오지 않은 다양한 분석들)\n",
    "\n",
    "2부 하면서 생기는 의문점 및 같이 생각해볼만한 이슈 정리"
   ]
  }
 ],
 "metadata": {
  "kernelspec": {
   "display_name": "Python 3",
   "language": "python",
   "name": "python3"
  },
  "language_info": {
   "codemirror_mode": {
    "name": "ipython",
    "version": 3
   },
   "file_extension": ".py",
   "mimetype": "text/x-python",
   "name": "python",
   "nbconvert_exporter": "python",
   "pygments_lexer": "ipython3",
   "version": "3.7.4"
  }
 },
 "nbformat": 4,
 "nbformat_minor": 2
}
